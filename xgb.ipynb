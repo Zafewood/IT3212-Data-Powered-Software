{
 "cells": [
  {
   "cell_type": "code",
   "execution_count": 16,
   "id": "initial_id",
   "metadata": {
    "collapsed": true,
    "ExecuteTime": {
     "end_time": "2023-11-01T10:43:47.732489300Z",
     "start_time": "2023-11-01T10:43:46.917413900Z"
    }
   },
   "outputs": [
    {
     "data": {
      "text/plain": "   price actual  generation fossil hard coal  \\\n0         65.41                       4821.0   \n1         64.92                       4755.0   \n2         64.48                       4581.0   \n3         59.32                       4131.0   \n4         56.04                       3840.0   \n\n   generation hydro pumped storage consumption  price actual ewm  \\\n0                                        863.0         65.410000   \n1                                        920.0         65.165000   \n2                                       1164.0         64.822500   \n3                                       1503.0         62.071250   \n4                                       1826.0         59.055625   \n\n   generation fossil hard coal ewm  \\\n0                         4821.000   \n1                         4788.000   \n2                         4684.500   \n3                         4407.750   \n4                         4123.875   \n\n   generation hydro pumped storage consumption ewm  \\\n0                                         863.0000   \n1                                         891.5000   \n2                                        1027.7500   \n3                                        1265.3750   \n4                                        1545.6875   \n\n   generation other renewable  generation fossil oil ewm  \\\n0                        73.0                    162.000   \n1                        71.0                    160.000   \n2                        73.0                    158.500   \n3                        75.0                    159.250   \n4                        74.0                    157.625   \n\n   generation other renewable ewm  generation other ewm  \n0                          73.000                  43.0  \n1                          72.000                  43.0  \n2                          72.500                  43.0  \n3                          73.750                  43.0  \n4                          73.875                  43.0  ",
      "text/html": "<div>\n<style scoped>\n    .dataframe tbody tr th:only-of-type {\n        vertical-align: middle;\n    }\n\n    .dataframe tbody tr th {\n        vertical-align: top;\n    }\n\n    .dataframe thead th {\n        text-align: right;\n    }\n</style>\n<table border=\"1\" class=\"dataframe\">\n  <thead>\n    <tr style=\"text-align: right;\">\n      <th></th>\n      <th>price actual</th>\n      <th>generation fossil hard coal</th>\n      <th>generation hydro pumped storage consumption</th>\n      <th>price actual ewm</th>\n      <th>generation fossil hard coal ewm</th>\n      <th>generation hydro pumped storage consumption ewm</th>\n      <th>generation other renewable</th>\n      <th>generation fossil oil ewm</th>\n      <th>generation other renewable ewm</th>\n      <th>generation other ewm</th>\n    </tr>\n  </thead>\n  <tbody>\n    <tr>\n      <th>0</th>\n      <td>65.41</td>\n      <td>4821.0</td>\n      <td>863.0</td>\n      <td>65.410000</td>\n      <td>4821.000</td>\n      <td>863.0000</td>\n      <td>73.0</td>\n      <td>162.000</td>\n      <td>73.000</td>\n      <td>43.0</td>\n    </tr>\n    <tr>\n      <th>1</th>\n      <td>64.92</td>\n      <td>4755.0</td>\n      <td>920.0</td>\n      <td>65.165000</td>\n      <td>4788.000</td>\n      <td>891.5000</td>\n      <td>71.0</td>\n      <td>160.000</td>\n      <td>72.000</td>\n      <td>43.0</td>\n    </tr>\n    <tr>\n      <th>2</th>\n      <td>64.48</td>\n      <td>4581.0</td>\n      <td>1164.0</td>\n      <td>64.822500</td>\n      <td>4684.500</td>\n      <td>1027.7500</td>\n      <td>73.0</td>\n      <td>158.500</td>\n      <td>72.500</td>\n      <td>43.0</td>\n    </tr>\n    <tr>\n      <th>3</th>\n      <td>59.32</td>\n      <td>4131.0</td>\n      <td>1503.0</td>\n      <td>62.071250</td>\n      <td>4407.750</td>\n      <td>1265.3750</td>\n      <td>75.0</td>\n      <td>159.250</td>\n      <td>73.750</td>\n      <td>43.0</td>\n    </tr>\n    <tr>\n      <th>4</th>\n      <td>56.04</td>\n      <td>3840.0</td>\n      <td>1826.0</td>\n      <td>59.055625</td>\n      <td>4123.875</td>\n      <td>1545.6875</td>\n      <td>74.0</td>\n      <td>157.625</td>\n      <td>73.875</td>\n      <td>43.0</td>\n    </tr>\n  </tbody>\n</table>\n</div>"
     },
     "execution_count": 16,
     "metadata": {},
     "output_type": "execute_result"
    }
   ],
   "source": [
    "import pandas as pd\n",
    "import xgboost as xgb\n",
    "import matplotlib.pyplot as plt\n",
    "from sklearn import *\n",
    "\n",
    "\n",
    "data = pd.read_csv('data/selected_features.csv') #path with data\n",
    "data.head()\n",
    "\n",
    "# Calculate the split point to split into train and test.\n",
    "split_point = int(0.8 * len(data))\n",
    "\n",
    "# Split the DataFrame\n",
    "df_train = data.iloc[:split_point]\n",
    "df_test = data.iloc[split_point:]\n",
    "\n",
    "df_train.head()"
   ]
  },
  {
   "cell_type": "code",
   "execution_count": 17,
   "outputs": [
    {
     "ename": "ImportError",
     "evalue": "sklearn needs to be installed in order to use this module",
     "output_type": "error",
     "traceback": [
      "\u001B[1;31m---------------------------------------------------------------------------\u001B[0m",
      "\u001B[1;31mImportError\u001B[0m                               Traceback (most recent call last)",
      "Cell \u001B[1;32mIn[17], line 16\u001B[0m\n\u001B[0;32m     11\u001B[0m y_test \u001B[38;5;241m=\u001B[39m df_test[\u001B[38;5;124m'\u001B[39m\u001B[38;5;124mprice actual\u001B[39m\u001B[38;5;124m'\u001B[39m]\n\u001B[0;32m     12\u001B[0m \u001B[38;5;66;03m# X_test = X_test.drop('', axis =1)\u001B[39;00m\n\u001B[0;32m     13\u001B[0m \n\u001B[0;32m     14\u001B[0m \n\u001B[0;32m     15\u001B[0m \u001B[38;5;66;03m#train the stooopid tree\u001B[39;00m\n\u001B[1;32m---> 16\u001B[0m reg \u001B[38;5;241m=\u001B[39m \u001B[43mxgb\u001B[49m\u001B[38;5;241;43m.\u001B[39;49m\u001B[43mXGBRegressor\u001B[49m\u001B[43m(\u001B[49m\u001B[43mn_estimators\u001B[49m\u001B[38;5;241;43m=\u001B[39;49m\u001B[38;5;241;43m10000\u001B[39;49m\u001B[43m)\u001B[49m\n\u001B[0;32m     17\u001B[0m reg\u001B[38;5;241m.\u001B[39mfit(X_train, y_train, verbose \u001B[38;5;241m=\u001B[39m \u001B[38;5;28;01mFalse\u001B[39;00m)\n",
      "File \u001B[1;32m~\\PycharmProjects\\Datadrevet-Programvare\\venv\\Lib\\site-packages\\xgboost\\core.py:729\u001B[0m, in \u001B[0;36mrequire_keyword_args.<locals>.throw_if.<locals>.inner_f\u001B[1;34m(*args, **kwargs)\u001B[0m\n\u001B[0;32m    727\u001B[0m \u001B[38;5;28;01mfor\u001B[39;00m k, arg \u001B[38;5;129;01min\u001B[39;00m \u001B[38;5;28mzip\u001B[39m(sig\u001B[38;5;241m.\u001B[39mparameters, args):\n\u001B[0;32m    728\u001B[0m     kwargs[k] \u001B[38;5;241m=\u001B[39m arg\n\u001B[1;32m--> 729\u001B[0m \u001B[38;5;28;01mreturn\u001B[39;00m \u001B[43mfunc\u001B[49m\u001B[43m(\u001B[49m\u001B[38;5;241;43m*\u001B[39;49m\u001B[38;5;241;43m*\u001B[39;49m\u001B[43mkwargs\u001B[49m\u001B[43m)\u001B[49m\n",
      "File \u001B[1;32m~\\PycharmProjects\\Datadrevet-Programvare\\venv\\Lib\\site-packages\\xgboost\\sklearn.py:1717\u001B[0m, in \u001B[0;36mXGBRegressor.__init__\u001B[1;34m(self, objective, **kwargs)\u001B[0m\n\u001B[0;32m   1713\u001B[0m \u001B[38;5;129m@_deprecate_positional_args\u001B[39m\n\u001B[0;32m   1714\u001B[0m \u001B[38;5;28;01mdef\u001B[39;00m \u001B[38;5;21m__init__\u001B[39m(\n\u001B[0;32m   1715\u001B[0m     \u001B[38;5;28mself\u001B[39m, \u001B[38;5;241m*\u001B[39m, objective: SklObjective \u001B[38;5;241m=\u001B[39m \u001B[38;5;124m\"\u001B[39m\u001B[38;5;124mreg:squarederror\u001B[39m\u001B[38;5;124m\"\u001B[39m, \u001B[38;5;241m*\u001B[39m\u001B[38;5;241m*\u001B[39mkwargs: Any\n\u001B[0;32m   1716\u001B[0m ) \u001B[38;5;241m-\u001B[39m\u001B[38;5;241m>\u001B[39m \u001B[38;5;28;01mNone\u001B[39;00m:\n\u001B[1;32m-> 1717\u001B[0m     \u001B[38;5;28;43msuper\u001B[39;49m\u001B[43m(\u001B[49m\u001B[43m)\u001B[49m\u001B[38;5;241;43m.\u001B[39;49m\u001B[38;5;21;43m__init__\u001B[39;49m\u001B[43m(\u001B[49m\u001B[43mobjective\u001B[49m\u001B[38;5;241;43m=\u001B[39;49m\u001B[43mobjective\u001B[49m\u001B[43m,\u001B[49m\u001B[43m \u001B[49m\u001B[38;5;241;43m*\u001B[39;49m\u001B[38;5;241;43m*\u001B[39;49m\u001B[43mkwargs\u001B[49m\u001B[43m)\u001B[49m\n",
      "File \u001B[1;32m~\\PycharmProjects\\Datadrevet-Programvare\\venv\\Lib\\site-packages\\xgboost\\sklearn.py:673\u001B[0m, in \u001B[0;36mXGBModel.__init__\u001B[1;34m(self, max_depth, max_leaves, max_bin, grow_policy, learning_rate, n_estimators, verbosity, objective, booster, tree_method, n_jobs, gamma, min_child_weight, max_delta_step, subsample, sampling_method, colsample_bytree, colsample_bylevel, colsample_bynode, reg_alpha, reg_lambda, scale_pos_weight, base_score, random_state, missing, num_parallel_tree, monotone_constraints, interaction_constraints, importance_type, device, validate_parameters, enable_categorical, feature_types, max_cat_to_onehot, max_cat_threshold, multi_strategy, eval_metric, early_stopping_rounds, callbacks, **kwargs)\u001B[0m\n\u001B[0;32m    629\u001B[0m \u001B[38;5;28;01mdef\u001B[39;00m \u001B[38;5;21m__init__\u001B[39m(\n\u001B[0;32m    630\u001B[0m     \u001B[38;5;28mself\u001B[39m,\n\u001B[0;32m    631\u001B[0m     max_depth: Optional[\u001B[38;5;28mint\u001B[39m] \u001B[38;5;241m=\u001B[39m \u001B[38;5;28;01mNone\u001B[39;00m,\n\u001B[1;32m   (...)\u001B[0m\n\u001B[0;32m    670\u001B[0m     \u001B[38;5;241m*\u001B[39m\u001B[38;5;241m*\u001B[39mkwargs: Any,\n\u001B[0;32m    671\u001B[0m ) \u001B[38;5;241m-\u001B[39m\u001B[38;5;241m>\u001B[39m \u001B[38;5;28;01mNone\u001B[39;00m:\n\u001B[0;32m    672\u001B[0m     \u001B[38;5;28;01mif\u001B[39;00m \u001B[38;5;129;01mnot\u001B[39;00m SKLEARN_INSTALLED:\n\u001B[1;32m--> 673\u001B[0m         \u001B[38;5;28;01mraise\u001B[39;00m \u001B[38;5;167;01mImportError\u001B[39;00m(\n\u001B[0;32m    674\u001B[0m             \u001B[38;5;124m\"\u001B[39m\u001B[38;5;124msklearn needs to be installed in order to use this module\u001B[39m\u001B[38;5;124m\"\u001B[39m\n\u001B[0;32m    675\u001B[0m         )\n\u001B[0;32m    676\u001B[0m     \u001B[38;5;28mself\u001B[39m\u001B[38;5;241m.\u001B[39mn_estimators \u001B[38;5;241m=\u001B[39m n_estimators\n\u001B[0;32m    677\u001B[0m     \u001B[38;5;28mself\u001B[39m\u001B[38;5;241m.\u001B[39mobjective \u001B[38;5;241m=\u001B[39m objective\n",
      "\u001B[1;31mImportError\u001B[0m: sklearn needs to be installed in order to use this module"
     ]
    }
   ],
   "source": [
    "\n",
    "# drop the target value from the train data and use it as label\n",
    "\n",
    "X_train = df_train.drop('price actual', axis =1)\n",
    "y_train = df_train['price actual']\n",
    "\n",
    "#drop time, bec tree cant handle the time label\n",
    "# X_train = X_train.drop('', axis =1)\n",
    "\n",
    "#same for test\n",
    "X_test = df_test.drop('price actual', axis =1)\n",
    "y_test = df_test['price actual']\n",
    "# X_test = X_test.drop('', axis =1)\n",
    "\n",
    "\n",
    "#train the stooopid tree\n",
    "reg = xgb.XGBRegressor(n_estimators=10000)\n",
    "reg.fit(X_train, y_train, verbose = False)"
   ],
   "metadata": {
    "collapsed": false,
    "ExecuteTime": {
     "end_time": "2023-11-01T10:43:50.596085400Z",
     "start_time": "2023-11-01T10:43:50.424237700Z"
    }
   },
   "id": "c87f116c071fa115"
  },
  {
   "cell_type": "markdown",
   "source": [],
   "metadata": {
    "collapsed": false
   },
   "id": "7503e22de89e3aac"
  },
  {
   "cell_type": "code",
   "execution_count": null,
   "outputs": [],
   "source": [
    "#plot feature importance\n",
    "xgb.plot_importance(reg)\n"
   ],
   "metadata": {
    "collapsed": false
   },
   "id": "8832e3fbbf485acc"
  },
  {
   "cell_type": "code",
   "execution_count": 2,
   "outputs": [
    {
     "ename": "NameError",
     "evalue": "name 'reg' is not defined",
     "output_type": "error",
     "traceback": [
      "\u001B[1;31m---------------------------------------------------------------------------\u001B[0m",
      "\u001B[1;31mNameError\u001B[0m                                 Traceback (most recent call last)",
      "Cell \u001B[1;32mIn[2], line 3\u001B[0m\n\u001B[0;32m      1\u001B[0m \u001B[38;5;66;03m#plotting of results. has to be adjusted.\u001B[39;00m\n\u001B[1;32m----> 3\u001B[0m \u001B[38;5;28mprint\u001B[39m(\u001B[43mreg\u001B[49m\u001B[38;5;241m.\u001B[39mpredict(X_test))\n\u001B[0;32m      6\u001B[0m X_test[\u001B[38;5;124m'\u001B[39m\u001B[38;5;124mpv_measurements_Prediction\u001B[39m\u001B[38;5;124m'\u001B[39m] \u001B[38;5;241m=\u001B[39m reg\u001B[38;5;241m.\u001B[39mpredict(X_test)\n\u001B[0;32m      9\u001B[0m data[\u001B[38;5;124m'\u001B[39m\u001B[38;5;124mpv_measurements\u001B[39m\u001B[38;5;124m'\u001B[39m]\u001B[38;5;241m.\u001B[39mplot(style\u001B[38;5;241m=\u001B[39m\u001B[38;5;124m'\u001B[39m\u001B[38;5;124mk\u001B[39m\u001B[38;5;124m'\u001B[39m, figsize\u001B[38;5;241m=\u001B[39m(\u001B[38;5;241m10\u001B[39m,\u001B[38;5;241m5\u001B[39m), label \u001B[38;5;241m=\u001B[39m \u001B[38;5;124m'\u001B[39m\u001B[38;5;124mtrain\u001B[39m\u001B[38;5;124m'\u001B[39m)\n",
      "\u001B[1;31mNameError\u001B[0m: name 'reg' is not defined"
     ]
    }
   ],
   "source": [
    "#plotting of results. has to be adjusted.\n",
    "\n",
    "print(reg.predict(X_test))\n",
    "\n",
    "\n",
    "X_test['pv_measurements_Prediction'] = reg.predict(X_test)\n",
    "\n",
    "\n",
    "data['price actual_Prediction'].plot(style='k', figsize=(10,5), label = 'train')\n",
    "df_test['price actual'].plot(style='b', figsize=(10,5), label = 'test')\n",
    "X_test['price actual_Prediction'].plot(style='r', figsize=(10,5), label = 'prediction')\n",
    "plt.title('Pred')\n",
    "plt.legend()"
   ],
   "metadata": {
    "collapsed": false,
    "ExecuteTime": {
     "end_time": "2023-11-01T10:23:00.360815700Z",
     "start_time": "2023-11-01T10:23:00.016705500Z"
    }
   },
   "id": "1bc7ad93d88a2ed0"
  },
  {
   "cell_type": "code",
   "execution_count": null,
   "outputs": [],
   "source": [],
   "metadata": {
    "collapsed": false
   },
   "id": "6dd4b726f1632ff3"
  }
 ],
 "metadata": {
  "kernelspec": {
   "display_name": "Python 3",
   "language": "python",
   "name": "python3"
  },
  "language_info": {
   "codemirror_mode": {
    "name": "ipython",
    "version": 2
   },
   "file_extension": ".py",
   "mimetype": "text/x-python",
   "name": "python",
   "nbconvert_exporter": "python",
   "pygments_lexer": "ipython2",
   "version": "2.7.6"
  }
 },
 "nbformat": 4,
 "nbformat_minor": 5
}
