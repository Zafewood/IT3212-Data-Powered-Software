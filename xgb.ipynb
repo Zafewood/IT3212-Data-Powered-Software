{
 "cells": [
  {
   "cell_type": "code",
   "execution_count": 51,
   "id": "initial_id",
   "metadata": {
    "collapsed": true,
    "ExecuteTime": {
     "end_time": "2023-11-15T09:04:33.728203300Z",
     "start_time": "2023-11-15T09:04:33.584333Z"
    }
   },
   "outputs": [
    {
     "name": "stdout",
     "output_type": "stream",
     "text": [
      "Index(['price actual', 'generation fossil hard coal',\n",
      "       'generation hydro pumped storage consumption', 'price actual ewm',\n",
      "       'generation fossil hard coal ewm',\n",
      "       'generation hydro pumped storage consumption ewm',\n",
      "       'generation other renewable', 'generation fossil oil ewm',\n",
      "       'generation other renewable ewm', 'generation other ewm'],\n",
      "      dtype='object')\n"
     ]
    }
   ],
   "source": [
    "import pandas as pd\n",
    "import xgboost as xgb\n",
    "import matplotlib.pyplot as plt\n",
    "from sklearn.metrics import mean_squared_error\n",
    "from sklearn import *\n",
    "\n",
    "\n",
    "data = pd.read_csv('data/selected_features.csv') #path with data\n",
    "data.head()\n",
    "print(data.columns)\n",
    "data = data.drop('price actual ewm', axis=1)\n",
    "# Calculate the split point to split into train and test.\n",
    "split_point = int(0.8 * len(data))\n",
    "\n",
    "# Split the DataFrame\n",
    "df_train = data.iloc[:split_point]\n",
    "df_test = data.iloc[split_point:]\n"
   ]
  },
  {
   "cell_type": "code",
   "execution_count": null,
   "outputs": [],
   "source": [
    "\n",
    "# drop the target value from the train data and use it as label\n",
    "\n",
    "X_train = df_train.drop('price actual', axis =1)\n",
    "y_train = df_train['price actual']\n",
    "\n",
    "#drop time, bec tree cant handle the time label\n",
    "# X_train = X_train.drop('', axis =1)\n",
    "\n",
    "#same for test\n",
    "X_test = df_test.drop('price actual', axis =1)\n",
    "y_test = df_test['price actual']\n",
    "# X_test = X_test.drop('', axis =1)\n",
    "\n",
    "\n",
    "#train the stooopid tree\n",
    "reg = xgb.XGBRegressor(n_estimators=1000000)\n",
    "reg.fit(X_train, y_train, verbose = False)"
   ],
   "metadata": {
    "collapsed": false,
    "ExecuteTime": {
     "start_time": "2023-11-15T09:04:06.677164200Z"
    }
   },
   "id": "c87f116c071fa115"
  },
  {
   "cell_type": "markdown",
   "source": [],
   "metadata": {
    "collapsed": false
   },
   "id": "7503e22de89e3aac"
  },
  {
   "cell_type": "code",
   "execution_count": null,
   "outputs": [],
   "source": [
    "#plot feature importance\n",
    "xgb.plot_importance(reg)\n"
   ],
   "metadata": {
    "collapsed": false,
    "ExecuteTime": {
     "start_time": "2023-11-15T09:04:06.688627500Z"
    }
   },
   "id": "8832e3fbbf485acc"
  },
  {
   "cell_type": "code",
   "execution_count": null,
   "outputs": [],
   "source": [
    "#plotting of results. has to be adjusted.\n",
    "\n",
    "print(reg.predict(X_test))\n",
    "\n",
    "X_test['price actual Prediction'] = reg.predict(X_test)\n",
    "\n",
    "df_train['price actual'].plot(style='k', figsize=(10,5), label = 'train')\n",
    "df_test['price actual'].plot(style='b', figsize=(10,5), label = 'test')\n",
    "X_test['price actual Prediction'].plot(style='r', figsize=(10,5), label = 'prediction')\n",
    "plt.title('Pred')\n",
    "plt.legend()"
   ],
   "metadata": {
    "collapsed": false,
    "ExecuteTime": {
     "start_time": "2023-11-15T09:04:06.697400500Z"
    }
   },
   "id": "1bc7ad93d88a2ed0"
  },
  {
   "cell_type": "code",
   "execution_count": null,
   "outputs": [],
   "source": [
    "# Calculating and printing the Mean Squared Error (MSE)\n",
    "mse = mean_squared_error(df_test['price actual'], X_test['price actual Prediction'])\n",
    "print(f\"Mean Squared Error (MSE): {mse}\")"
   ],
   "metadata": {
    "collapsed": false,
    "ExecuteTime": {
     "start_time": "2023-11-15T09:04:06.703324100Z"
    }
   },
   "id": "6dd4b726f1632ff3"
  },
  {
   "cell_type": "code",
   "execution_count": null,
   "outputs": [],
   "source": [],
   "metadata": {
    "collapsed": false,
    "ExecuteTime": {
     "end_time": "2023-11-15T09:04:06.734513100Z",
     "start_time": "2023-11-15T09:04:06.703324100Z"
    }
   },
   "id": "5e38692e9b53a2e1"
  }
 ],
 "metadata": {
  "kernelspec": {
   "display_name": "Python 3",
   "language": "python",
   "name": "python3"
  },
  "language_info": {
   "codemirror_mode": {
    "name": "ipython",
    "version": 2
   },
   "file_extension": ".py",
   "mimetype": "text/x-python",
   "name": "python",
   "nbconvert_exporter": "python",
   "pygments_lexer": "ipython2",
   "version": "2.7.6"
  }
 },
 "nbformat": 4,
 "nbformat_minor": 5
}
