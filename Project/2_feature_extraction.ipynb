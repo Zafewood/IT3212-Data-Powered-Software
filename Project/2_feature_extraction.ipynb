{
 "cells": [
  {
   "cell_type": "markdown",
   "metadata": {},
   "source": [
    "# Feature Extraction"
   ]
  },
  {
   "cell_type": "markdown",
   "metadata": {},
   "source": [
    "### Imports"
   ]
  },
  {
   "cell_type": "code",
   "execution_count": 6,
   "metadata": {},
   "outputs": [],
   "source": [
    "import pandas as pd"
   ]
  },
  {
   "cell_type": "markdown",
   "metadata": {},
   "source": [
    "### Create Dataframe"
   ]
  },
  {
   "cell_type": "code",
   "execution_count": 7,
   "metadata": {},
   "outputs": [],
   "source": [
    "preprocessed_df = pd.read_csv('data/preprocessed_dataset.csv')\n",
    "column_names = preprocessed_df.columns"
   ]
  },
  {
   "cell_type": "markdown",
   "metadata": {},
   "source": [
    "### Day Mean and Median"
   ]
  },
  {
   "cell_type": "code",
   "execution_count": 8,
   "metadata": {},
   "outputs": [],
   "source": [
    "means = []\n",
    "medians = []\n",
    "\n",
    "for column in preprocessed_df.columns[1:-1]:\n",
    "    mean_col = preprocessed_df[column].ewm(span=24, adjust=False).mean()\n",
    "    median_col = preprocessed_df[column].rolling(window=24).median()\n",
    "\n",
    "    mean_col.name = column + ' day mean'\n",
    "    median_col.name = column + ' day median'\n",
    "\n",
    "    means.append(mean_col)\n",
    "    medians.append(median_col)\n",
    "\n",
    "day_columns = pd.concat(means + medians, axis=1)"
   ]
  },
  {
   "cell_type": "markdown",
   "metadata": {},
   "source": [
    "### Week Mean and Median"
   ]
  },
  {
   "cell_type": "code",
   "execution_count": 9,
   "metadata": {},
   "outputs": [],
   "source": [
    "means = []\n",
    "medians = []\n",
    "\n",
    "for column in preprocessed_df.columns[1:-1]:\n",
    "    mean_col = preprocessed_df[column].ewm(span=168, adjust=False).mean()\n",
    "    median_col = preprocessed_df[column].rolling(window=168).median()\n",
    "\n",
    "    mean_col.name = column + ' week mean'\n",
    "    median_col.name = column + ' week median'\n",
    "\n",
    "    means.append(mean_col)\n",
    "    medians.append(median_col)\n",
    "\n",
    "week_columns = pd.concat(means + medians, axis=1)\n",
    "preprocessed_df = pd.concat([preprocessed_df, day_columns, week_columns], axis=1)\n",
    "\n",
    "preprocessed_df.fillna(method='ffill', inplace=True)\n",
    "preprocessed_df.fillna(method='bfill', inplace=True)"
   ]
  },
  {
   "cell_type": "markdown",
   "metadata": {},
   "source": [
    "### Save to CSV"
   ]
  },
  {
   "cell_type": "code",
   "execution_count": 10,
   "metadata": {},
   "outputs": [],
   "source": [
    "preprocessed_df.to_csv('data/extracted_features.csv', index=False)"
   ]
  }
 ],
 "metadata": {
  "kernelspec": {
   "display_name": "Python 3.10.11 64-bit",
   "language": "python",
   "name": "python3"
  },
  "language_info": {
   "codemirror_mode": {
    "name": "ipython",
    "version": 3
   },
   "file_extension": ".py",
   "mimetype": "text/x-python",
   "name": "python",
   "nbconvert_exporter": "python",
   "pygments_lexer": "ipython3",
   "version": "3.10.11"
  },
  "orig_nbformat": 4,
  "vscode": {
   "interpreter": {
    "hash": "aee8b7b246df8f9039afb4144a1f6fd8d2ca17a180786b69acc140d282b71a49"
   }
  }
 },
 "nbformat": 4,
 "nbformat_minor": 2
}
