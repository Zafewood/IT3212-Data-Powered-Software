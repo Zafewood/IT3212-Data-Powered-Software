{
 "cells": [
  {
   "cell_type": "code",
   "execution_count": 1,
   "metadata": {
    "ExecuteTime": {
     "end_time": "2023-11-15T07:08:01.056354300Z",
     "start_time": "2023-11-15T07:08:00.726048800Z"
    }
   },
   "outputs": [],
   "source": [
    "import numpy as np\n",
    "import pandas as pd\n",
    "from sklearn.model_selection import train_test_split, KFold\n",
    "from sklearn.pipeline import make_pipeline\n",
    "from sklearn.linear_model import LinearRegression\n",
    "from sklearn.preprocessing import PolynomialFeatures\n",
    "from sklearn.metrics import mean_squared_error"
   ]
  },
  {
   "cell_type": "code",
   "execution_count": 65,
   "metadata": {},
   "outputs": [],
   "source": [
    "selected_features = pd.read_csv('data/selected_features.csv')\n",
    "target_column = 'price actual'\n",
    "y = selected_features[target_column]"
   ]
  },
  {
   "cell_type": "code",
   "execution_count": 66,
   "metadata": {},
   "outputs": [],
   "source": [
    "try: \n",
    "    selected_features.drop(target_column, axis=1, inplace=True)\n",
    "    selected_features.drop(target_column + ' ewm', axis=1, inplace=True)\n",
    "except:\n",
    "    print('Already dropped')"
   ]
  },
  {
   "cell_type": "code",
   "execution_count": 67,
   "metadata": {},
   "outputs": [],
   "source": [
    "#make predictions on n-folds of train and test dataset. This function returns the predictions for #train and test for each model.\n",
    "# def Stacking1(model, train, y, test, n_fold):\n",
    "#     folds=StratifiedKFold(n_splits=n_fold)\n",
    "#     test_pred=np.empty((test.shape[0],1),float)\n",
    "#     train_pred=np.empty((0,1),float)\n",
    "#     for train_indices, val_indices in folds.split(train, y.values):\n",
    "#         x_train, x_val = train.iloc[train_indices],train.iloc[val_indices]\n",
    "#         y_train, y_val = y.iloc[train_indices],y.iloc[val_indices]\n",
    "        \n",
    "#         model.fit(X=x_train,y=y_train)\n",
    "#         train_pred=np.append(train_pred,model.predict(x_val))\n",
    "#         test_pred=np.append(test_pred,model.predict(test))\n",
    "#     return test_pred.reshape(-1,1),train_pred\n",
    "\n",
    "def Stacking(model, train, y, test, n_fold):\n",
    "    folds = KFold(n_splits=n_fold)\n",
    "    test_pred = np.empty((0, test.shape[0]), float)\n",
    "    train_pred = np.empty((0), float)\n",
    "    \n",
    "    for train_indices, val_indices in folds.split(train):\n",
    "        x_train, x_val = train.iloc[train_indices], train.iloc[val_indices]\n",
    "        y_train, y_val = y.iloc[train_indices], y.iloc[val_indices]\n",
    "        \n",
    "        model.fit(X=x_train, y=y_train)\n",
    "        train_pred = np.append(train_pred, model.predict(x_val))\n",
    "\n",
    "        # Storing test set predictions for each fold\n",
    "        test_pred = np.vstack([test_pred, model.predict(test)])\n",
    "\n",
    "    # Averaging the test set predictions across folds\n",
    "    test_pred = test_pred.mean(axis=0).reshape(-1, 1)\n",
    "    \n",
    "    return test_pred, train_pred\n"
   ]
  },
  {
   "cell_type": "code",
   "execution_count": 68,
   "metadata": {},
   "outputs": [
    {
     "name": "stdout",
     "output_type": "stream",
     "text": [
      "Mean Squared Error (MSE): 87.55458118670104\n"
     ]
    }
   ],
   "source": [
    "x = selected_features[selected_features.columns]\n",
    "x_train, x_test, y_train, y_test = train_test_split(x, y, test_size=0.2, random_state=42)\n",
    "\n",
    "\n",
    "degree = 4\n",
    "model1 = make_pipeline(PolynomialFeatures(degree), LinearRegression())\n",
    "test_pred1 ,train_pred1 = Stacking(model = model1, n_fold = 10, train = x_train, test = x_test, y = y_train)\n",
    "train_pred1 = pd.DataFrame(train_pred1)\n",
    "test_pred1 = pd.DataFrame(test_pred1)\n",
    "\n",
    "\n",
    "model2 = LinearRegression()\n",
    "test_pred2, train_pred2 = Stacking(model = model2, n_fold = 10, train = x_train, test = x_test, y = y_train)\n",
    "train_pred2 = pd.DataFrame(train_pred2)\n",
    "test_pred2 = pd.DataFrame(test_pred2)\n",
    "\n",
    "df = pd.concat([train_pred1, train_pred2], axis=1)\n",
    "df_test = pd.concat([test_pred1, test_pred2], axis=1)\n",
    "meta_model = make_pipeline(PolynomialFeatures(4), LinearRegression())\n",
    "meta_model.fit(df, y_train)\n",
    "y_pred = meta_model.predict(df_test)\n",
    "\n",
    "mse = mean_squared_error(y_test, y_pred)\n",
    "print(f\"Mean Squared Error (MSE): {mse}\")"
   ]
  }
 ],
 "metadata": {
  "kernelspec": {
   "display_name": "Python 3.10.11 64-bit",
   "language": "python",
   "name": "python3"
  },
  "language_info": {
   "codemirror_mode": {
    "name": "ipython",
    "version": 3
   },
   "file_extension": ".py",
   "mimetype": "text/x-python",
   "name": "python",
   "nbconvert_exporter": "python",
   "pygments_lexer": "ipython3",
   "version": "3.10.11"
  },
  "orig_nbformat": 4,
  "vscode": {
   "interpreter": {
    "hash": "aee8b7b246df8f9039afb4144a1f6fd8d2ca17a180786b69acc140d282b71a49"
   }
  }
 },
 "nbformat": 4,
 "nbformat_minor": 2
}
