{
 "cells": [
  {
   "cell_type": "markdown",
   "metadata": {},
   "source": [
    "### Imports"
   ]
  },
  {
   "cell_type": "code",
   "execution_count": 50,
   "metadata": {},
   "outputs": [],
   "source": [
    "import pandas as pd"
   ]
  },
  {
   "cell_type": "markdown",
   "metadata": {},
   "source": [
    "### Create Dataframe"
   ]
  },
  {
   "cell_type": "code",
   "execution_count": 47,
   "metadata": {},
   "outputs": [],
   "source": [
    "extracted_features = pd.read_csv('data/extracted_features.csv')"
   ]
  },
  {
   "cell_type": "markdown",
   "metadata": {},
   "source": [
    "### Pearson Correlation"
   ]
  },
  {
   "cell_type": "code",
   "execution_count": 53,
   "metadata": {},
   "outputs": [
    {
     "name": "stdout",
     "output_type": "stream",
     "text": [
      "price actual                                       1.000000\n",
      "generation fossil hard coal                        0.516080\n",
      "generation hydro pumped storage consumption        0.469723\n",
      "price actual ewm                                   0.982482\n",
      "generation fossil hard coal ewm                    0.508245\n",
      "generation hydro pumped storage consumption ewm    0.460695\n",
      "Name: price actual, dtype: float64\n"
     ]
    }
   ],
   "source": [
    "column = 'price actual'\n",
    "\n",
    "cor = extracted_features.corr(numeric_only=True)\n",
    "cor_target = abs(cor[column])\n",
    "\n",
    "#Selecting highly correlated features\n",
    "relative_features = cor_target[cor_target>0.45]\n",
    "print(relative_features)\n",
    "\n",
    "selected_features = pd.DataFrame()\n",
    "for feature in relative_features.index:\n",
    "    selected_features[feature] = extracted_features[feature]"
   ]
  },
  {
   "cell_type": "markdown",
   "metadata": {},
   "source": [
    "### Save to CSV"
   ]
  },
  {
   "cell_type": "code",
   "execution_count": 54,
   "metadata": {},
   "outputs": [],
   "source": [
    "selected_features.to_csv('data/selected_features.csv', index=False)"
   ]
  }
 ],
 "metadata": {
  "kernelspec": {
   "display_name": "Python 3.10.11 64-bit",
   "language": "python",
   "name": "python3"
  },
  "language_info": {
   "codemirror_mode": {
    "name": "ipython",
    "version": 3
   },
   "file_extension": ".py",
   "mimetype": "text/x-python",
   "name": "python",
   "nbconvert_exporter": "python",
   "pygments_lexer": "ipython3",
   "version": "3.10.11"
  },
  "orig_nbformat": 4,
  "vscode": {
   "interpreter": {
    "hash": "aee8b7b246df8f9039afb4144a1f6fd8d2ca17a180786b69acc140d282b71a49"
   }
  }
 },
 "nbformat": 4,
 "nbformat_minor": 2
}
