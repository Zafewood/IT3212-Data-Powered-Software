{
 "cells": [
  {
   "cell_type": "markdown",
   "metadata": {},
   "source": [
    "# Feature Selection"
   ]
  },
  {
   "cell_type": "markdown",
   "metadata": {},
   "source": [
    "### Imports"
   ]
  },
  {
   "cell_type": "code",
   "execution_count": 1,
   "metadata": {},
   "outputs": [],
   "source": [
    "import pandas as pd\n",
    "import numpy as np\n",
    "from sklearn.preprocessing import StandardScaler\n",
    "from sklearn.decomposition import PCA"
   ]
  },
  {
   "cell_type": "markdown",
   "metadata": {},
   "source": [
    "### Create Dataframe"
   ]
  },
  {
   "cell_type": "code",
   "execution_count": 2,
   "metadata": {},
   "outputs": [],
   "source": [
    "extracted_features = pd.read_csv('data/extracted_features.csv')\n",
    "target_column = 'price actual'"
   ]
  },
  {
   "cell_type": "markdown",
   "metadata": {},
   "source": [
    "### PCA"
   ]
  },
  {
   "cell_type": "code",
   "execution_count": 3,
   "metadata": {},
   "outputs": [],
   "source": [
    "no_time_df = extracted_features.drop(['time'], axis=1)\n",
    "X = no_time_df.values\n",
    "sc = StandardScaler()\n",
    "X_std = sc.fit_transform(X)\n",
    "\n",
    "pca = PCA(n_components = 0.99)\n",
    "X_pca = pca.fit_transform(X_std)\n",
    "n_pcs= pca.n_components_\n",
    "\n",
    "most_important = [np.abs(pca.components_[i]).argmax() for i in range(n_pcs)]\n",
    "initial_feature_names = no_time_df.columns\n",
    "most_important_names = [initial_feature_names[most_important[i]] for i in range(n_pcs)]\n",
    "most_important_names_set = set(most_important_names)\n",
    "\n",
    "features_df = pd.DataFrame()\n",
    "features_df['time'] = extracted_features['time']\n",
    "for feature in most_important_names_set:\n",
    "    features_df[feature] = extracted_features[feature]"
   ]
  },
  {
   "cell_type": "markdown",
   "metadata": {},
   "source": [
    "### Pearson Correlation"
   ]
  },
  {
   "cell_type": "code",
   "execution_count": 4,
   "metadata": {},
   "outputs": [
    {
     "name": "stdout",
     "output_type": "stream",
     "text": [
      "generation fossil brown coal/lignite                0.410184\n",
      "generation fossil gas                               0.511821\n",
      "generation fossil hard coal                         0.515519\n",
      "generation hydro pumped storage consumption         0.468760\n",
      "total load actual                                   0.449061\n",
      "price actual                                        1.000000\n",
      "generation fossil brown coal/lignite day mean       0.401129\n",
      "generation fossil gas day mean                      0.428154\n",
      "generation fossil hard coal day mean                0.472333\n",
      "generation fossil hard coal day median              0.436126\n",
      "generation fossil brown coal/lignite week mean      0.454132\n",
      "generation fossil gas week mean                     0.427194\n",
      "generation fossil hard coal week mean               0.483186\n",
      "generation fossil brown coal/lignite week median    0.411003\n",
      "generation fossil hard coal week median             0.463670\n",
      "Name: price actual, dtype: float64\n"
     ]
    }
   ],
   "source": [
    "cor = extracted_features.corr(numeric_only=True)\n",
    "cor_target = abs(cor[target_column])\n",
    "\n",
    "relative_features = cor_target[cor_target>0.4]\n",
    "print(relative_features)\n",
    "\n",
    "selected_features = pd.DataFrame()\n",
    "for feature in relative_features.index:\n",
    "    selected_features[feature] = extracted_features[feature]"
   ]
  },
  {
   "cell_type": "markdown",
   "metadata": {},
   "source": [
    "### Save to CSV"
   ]
  },
  {
   "cell_type": "code",
   "execution_count": 5,
   "metadata": {},
   "outputs": [],
   "source": [
    "selected_features.to_csv('data/selected_features.csv', index=False)"
   ]
  }
 ],
 "metadata": {
  "kernelspec": {
   "display_name": "Python 3.10.11 64-bit",
   "language": "python",
   "name": "python3"
  },
  "language_info": {
   "codemirror_mode": {
    "name": "ipython",
    "version": 3
   },
   "file_extension": ".py",
   "mimetype": "text/x-python",
   "name": "python",
   "nbconvert_exporter": "python",
   "pygments_lexer": "ipython3",
   "version": "3.10.11"
  },
  "orig_nbformat": 4,
  "vscode": {
   "interpreter": {
    "hash": "aee8b7b246df8f9039afb4144a1f6fd8d2ca17a180786b69acc140d282b71a49"
   }
  }
 },
 "nbformat": 4,
 "nbformat_minor": 2
}
