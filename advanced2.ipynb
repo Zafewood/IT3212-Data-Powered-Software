{
 "cells": [
  {
   "cell_type": "code",
   "execution_count": 1,
   "metadata": {
    "ExecuteTime": {
     "end_time": "2023-11-14T23:18:33.859565100Z",
     "start_time": "2023-11-14T23:18:27.785537Z"
    }
   },
   "outputs": [],
   "source": [
    "import pandas as pd\n",
    "from sklearn.model_selection import train_test_split\n",
    "from sklearn.pipeline import make_pipeline\n",
    "from sklearn.linear_model import LinearRegression\n",
    "from sklearn.preprocessing import PolynomialFeatures\n",
    "from sklearn.metrics import mean_squared_error"
   ]
  },
  {
   "cell_type": "code",
   "execution_count": 6,
   "metadata": {},
   "outputs": [],
   "source": [
    "selected_features = pd.read_csv('data/selected_features.csv')\n",
    "target_column = 'price actual'\n",
    "y = selected_features[target_column]"
   ]
  },
  {
   "cell_type": "code",
   "execution_count": 7,
   "metadata": {},
   "outputs": [],
   "source": [
    "try: \n",
    "    selected_features.drop(target_column, axis=1, inplace=True)\n",
    "    selected_features.drop(target_column + ' ewm', axis=1, inplace=True)\n",
    "except:\n",
    "\n",
    "    print('Already dropped')"
   ]
  },
  {
   "cell_type": "code",
   "execution_count": 31,
   "metadata": {},
   "outputs": [],
   "source": [
    "# x = selected_features[selected_features.columns]\n",
    "# x_train, x_test, y_train, y_test = train_test_split(X, y, test_size=0.2, random_state=42)\n",
    "\n",
    "# degree = 4\n",
    "# model1 = make_pipeline(PolynomialFeatures(degree), LinearRegression())\n",
    "# model1.fit(x_train, y_train)\n",
    "# val_pred1=model1.predict(x_val)\n",
    "# test_pred1=model1.predict(x_test)\n",
    "# val_pred1=pd.DataFrame(val_pred1)\n",
    "# test_pred1=pd.DataFrame(test_pred1)\n",
    "\n",
    "# model2 = LinearRegression()\n",
    "# model2.fit(x_train,y_train)\n",
    "# val_pred2=model2.predict(x_val)\n",
    "# test_pred2=model2.predict(x_test)\n",
    "# val_pred2=pd.DataFrame(val_pred2)\n",
    "# test_pred2=pd.DataFrame(test_pred2)\n",
    "\n",
    "# df_val=pd.concat([x_val, val_pred1,val_pred2],axis=1)\n",
    "# df_test=pd.concat([x_test, test_pred1,test_pred2],axis=1)\n",
    "# meta_model = make_pipeline(PolynomialFeatures(4), LinearRegression())\n",
    "# meta_model.fit(df, y_train)\n",
    "# y_pred = meta_model.predict(df_test)\n",
    "\n",
    "# mse = mean_squared_error(y_test, y_pred)\n",
    "# print(f\"Mean Squared Error (MSE): {mse}\")\n",
    "\n",
    "x = selected_features[selected_features.columns]\n",
    "x_train, x_temp, y_train, y_temp = train_test_split(x, y, test_size=0.4, random_state=42)\n",
    "x_val, x_test, y_val, y_test = train_test_split(x_temp, y_temp, test_size=0.5, random_state=42)\n",
    "\n",
    "\n",
    "degree = 8\n",
    "model1 = make_pipeline(PolynomialFeatures(degree), LinearRegression())\n",
    "model1.fit(x_train, y_train)\n",
    "val_pred1 = model1.predict(x_val)\n",
    "test_pred1 = model1.predict(x_test)\n",
    "\n",
    "model2 = LinearRegression()\n",
    "model2.fit(x_train, y_train)\n",
    "val_pred2 = model2.predict(x_val)\n",
    "test_pred2 = model2.predict(x_test)\n",
    "\n",
    "# Creating dataframes for meta-model training and prediction\n",
    "df_val = pd.DataFrame({'pred1': val_pred1, 'pred2': val_pred2})\n",
    "df_test = pd.DataFrame({'pred1': test_pred1, 'pred2': test_pred2})\n",
    "\n",
    "# Training the meta-model\n",
    "meta_model = make_pipeline(PolynomialFeatures(2), LinearRegression())\n",
    "meta_model.fit(df_val, y_val)\n",
    "\n",
    "# Making predictions with the meta-model\n",
    "y_pred = meta_model.predict(df_test)\n",
    "\n",
    "# Calculating and printing the Mean Squared Error (MSE)\n",
    "mse = mean_squared_error(y_test, y_pred)\n",
    "print(f\"Mean Squared Error (MSE): {mse}\")\n"
   ]
  }
 ],
 "metadata": {
  "kernelspec": {
   "display_name": "Python 3.10.11 64-bit",
   "language": "python",
   "name": "python3"
  },
  "language_info": {
   "codemirror_mode": {
    "name": "ipython",
    "version": 3
   },
   "file_extension": ".py",
   "mimetype": "text/x-python",
   "name": "python",
   "nbconvert_exporter": "python",
   "pygments_lexer": "ipython3",
   "version": "3.10.11"
  },
  "orig_nbformat": 4,
  "vscode": {
   "interpreter": {
    "hash": "aee8b7b246df8f9039afb4144a1f6fd8d2ca17a180786b69acc140d282b71a49"
   }
  }
 },
 "nbformat": 4,
 "nbformat_minor": 2
}
