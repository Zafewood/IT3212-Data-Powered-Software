{
 "cells": [
  {
   "cell_type": "markdown",
   "metadata": {},
   "source": [
    "# Preprocessing"
   ]
  },
  {
   "cell_type": "markdown",
   "metadata": {},
   "source": [
    "### Preperation\n",
    "Import libraries and create the pandas dataframes"
   ]
  },
  {
   "cell_type": "code",
   "execution_count": 55,
   "metadata": {},
   "outputs": [],
   "source": [
    "import pandas as pd\n",
    "import numpy as np\n",
    "import matplotlib.pyplot as plt\n",
    "\n",
    "weather_df = pd.read_csv('data/weather_features.csv')\n",
    "weather_df['dt_iso'] = pd.to_datetime(weather_df['dt_iso'])\n",
    "weather_df = weather_df.applymap(lambda x: x.strip() if type(x)==str else x)\n",
    "\n",
    "valencia_df = weather_df[weather_df['city_name'] == 'Valencia']\n",
    "madrid_df = weather_df[weather_df['city_name'] == 'Madrid']\n",
    "bilbao_df = weather_df[weather_df['city_name'] == 'Bilbao']\n",
    "barcelona_df = weather_df[weather_df['city_name'] == 'Barcelona']\n",
    "seville_df = weather_df[weather_df['city_name'] == 'Seville']\n",
    "\n",
    "dataframes = [valencia_df, madrid_df, bilbao_df, barcelona_df, seville_df]\n",
    "all_column_names = {}\n",
    "\n",
    "for df in dataframes:\n",
    "    city_name = df['city_name'].iloc[0]\n",
    "    all_column_names[city_name] = []\n",
    "    for column in valencia_df.columns:\n",
    "        if valencia_df[column].dtype == np.float64:\n",
    "            all_column_names[city_name].append(column)\n"
   ]
  },
  {
   "cell_type": "code",
   "execution_count": 56,
   "metadata": {},
   "outputs": [],
   "source": [
    "valencia_df = valencia_df.loc[:, (valencia_df.fillna(0) != 0).any(axis=0)]\n",
    "madrid_df = madrid_df.loc[:, (madrid_df.fillna(0) != 0).any(axis=0)]\n",
    "bilbao_df = bilbao_df.loc[:, (bilbao_df.fillna(0) != 0).any(axis=0)]\n",
    "barcelona_df = barcelona_df.loc[:, (barcelona_df.fillna(0) != 0).any(axis=0)]\n",
    "seville_df = seville_df.loc[:, (seville_df.fillna(0) != 0).any(axis=0)]"
   ]
  },
  {
   "cell_type": "code",
   "execution_count": 57,
   "metadata": {},
   "outputs": [],
   "source": [
    "valencia_df = valencia_df.interpolate(method='linear')\n",
    "madrid_df = madrid_df.interpolate(method='linear')\n",
    "bilbao_df = bilbao_df.interpolate(method='linear')\n",
    "barcelona_df = barcelona_df.interpolate(method='linear')\n",
    "seville_df = seville_df.interpolate(method='linear')"
   ]
  },
  {
   "cell_type": "code",
   "execution_count": 58,
   "metadata": {},
   "outputs": [
    {
     "name": "stdout",
     "output_type": "stream",
     "text": [
      "{'Valencia': ['temp', 'temp_min', 'temp_max', 'rain_1h', 'rain_3h', 'snow_3h'], 'Madrid': ['temp', 'temp_min', 'temp_max', 'rain_1h', 'rain_3h', 'snow_3h'], 'Bilbao': ['temp', 'temp_min', 'temp_max', 'rain_1h', 'rain_3h', 'snow_3h'], 'Barcelona': ['temp', 'temp_min', 'temp_max', 'rain_1h', 'rain_3h', 'snow_3h'], 'Seville': ['temp', 'temp_min', 'temp_max', 'rain_1h', 'rain_3h', 'snow_3h']}\n",
      "{'Valencia': ['temp', 'temp_min', 'temp_max', 'rain_1h', 'rain_3h', 'snow_3h'], 'Madrid': ['temp', 'temp_min', 'temp_max', 'rain_1h', 'rain_3h', 'snow_3h'], 'Bilbao': ['temp', 'temp_min', 'temp_max', 'rain_1h', 'rain_3h', 'snow_3h'], 'Barcelona': ['temp', 'temp_min', 'temp_max', 'rain_1h', 'rain_3h', 'snow_3h'], 'Seville': ['temp', 'temp_min', 'temp_max', 'rain_1h', 'rain_3h', 'snow_3h']}\n"
     ]
    },
    {
     "ename": "KeyError",
     "evalue": "0",
     "output_type": "error",
     "traceback": [
      "\u001b[0;31m---------------------------------------------------------------------------\u001b[0m",
      "\u001b[0;31mKeyError\u001b[0m                                  Traceback (most recent call last)",
      "File \u001b[0;32m/Library/Frameworks/Python.framework/Versions/3.10/lib/python3.10/site-packages/pandas/core/indexes/base.py:3652\u001b[0m, in \u001b[0;36mIndex.get_loc\u001b[0;34m(self, key)\u001b[0m\n\u001b[1;32m   3651\u001b[0m \u001b[39mtry\u001b[39;00m:\n\u001b[0;32m-> 3652\u001b[0m     \u001b[39mreturn\u001b[39;00m \u001b[39mself\u001b[39;49m\u001b[39m.\u001b[39;49m_engine\u001b[39m.\u001b[39;49mget_loc(casted_key)\n\u001b[1;32m   3653\u001b[0m \u001b[39mexcept\u001b[39;00m \u001b[39mKeyError\u001b[39;00m \u001b[39mas\u001b[39;00m err:\n",
      "File \u001b[0;32m/Library/Frameworks/Python.framework/Versions/3.10/lib/python3.10/site-packages/pandas/_libs/index.pyx:147\u001b[0m, in \u001b[0;36mpandas._libs.index.IndexEngine.get_loc\u001b[0;34m()\u001b[0m\n",
      "File \u001b[0;32m/Library/Frameworks/Python.framework/Versions/3.10/lib/python3.10/site-packages/pandas/_libs/index.pyx:176\u001b[0m, in \u001b[0;36mpandas._libs.index.IndexEngine.get_loc\u001b[0;34m()\u001b[0m\n",
      "File \u001b[0;32mpandas/_libs/hashtable_class_helper.pxi:2606\u001b[0m, in \u001b[0;36mpandas._libs.hashtable.Int64HashTable.get_item\u001b[0;34m()\u001b[0m\n",
      "File \u001b[0;32mpandas/_libs/hashtable_class_helper.pxi:2630\u001b[0m, in \u001b[0;36mpandas._libs.hashtable.Int64HashTable.get_item\u001b[0;34m()\u001b[0m\n",
      "\u001b[0;31mKeyError\u001b[0m: 0",
      "\nThe above exception was the direct cause of the following exception:\n",
      "\u001b[0;31mKeyError\u001b[0m                                  Traceback (most recent call last)",
      "Cell \u001b[0;32mIn[58], line 11\u001b[0m\n\u001b[1;32m      9\u001b[0m \u001b[39mfor\u001b[39;00m df \u001b[39min\u001b[39;00m dataframes:\n\u001b[1;32m     10\u001b[0m     \u001b[39mprint\u001b[39m(all_column_names)\n\u001b[0;32m---> 11\u001b[0m     column_names \u001b[39m=\u001b[39m all_column_names[df[\u001b[39m'\u001b[39;49m\u001b[39mcity_name\u001b[39;49m\u001b[39m'\u001b[39;49m][\u001b[39m0\u001b[39;49m]]\n\u001b[1;32m     12\u001b[0m     anomaly_masks \u001b[39m=\u001b[39m {}\n\u001b[1;32m     13\u001b[0m     \u001b[39mfor\u001b[39;00m column_name \u001b[39min\u001b[39;00m column_names[\u001b[39m1\u001b[39m:]:\n",
      "File \u001b[0;32m/Library/Frameworks/Python.framework/Versions/3.10/lib/python3.10/site-packages/pandas/core/series.py:1012\u001b[0m, in \u001b[0;36mSeries.__getitem__\u001b[0;34m(self, key)\u001b[0m\n\u001b[1;32m   1009\u001b[0m     \u001b[39mreturn\u001b[39;00m \u001b[39mself\u001b[39m\u001b[39m.\u001b[39m_values[key]\n\u001b[1;32m   1011\u001b[0m \u001b[39melif\u001b[39;00m key_is_scalar:\n\u001b[0;32m-> 1012\u001b[0m     \u001b[39mreturn\u001b[39;00m \u001b[39mself\u001b[39;49m\u001b[39m.\u001b[39;49m_get_value(key)\n\u001b[1;32m   1014\u001b[0m \u001b[39mif\u001b[39;00m is_hashable(key):\n\u001b[1;32m   1015\u001b[0m     \u001b[39m# Otherwise index.get_value will raise InvalidIndexError\u001b[39;00m\n\u001b[1;32m   1016\u001b[0m     \u001b[39mtry\u001b[39;00m:\n\u001b[1;32m   1017\u001b[0m         \u001b[39m# For labels that don't resolve as scalars like tuples and frozensets\u001b[39;00m\n",
      "File \u001b[0;32m/Library/Frameworks/Python.framework/Versions/3.10/lib/python3.10/site-packages/pandas/core/series.py:1121\u001b[0m, in \u001b[0;36mSeries._get_value\u001b[0;34m(self, label, takeable)\u001b[0m\n\u001b[1;32m   1118\u001b[0m     \u001b[39mreturn\u001b[39;00m \u001b[39mself\u001b[39m\u001b[39m.\u001b[39m_values[label]\n\u001b[1;32m   1120\u001b[0m \u001b[39m# Similar to Index.get_value, but we do not fall back to positional\u001b[39;00m\n\u001b[0;32m-> 1121\u001b[0m loc \u001b[39m=\u001b[39m \u001b[39mself\u001b[39;49m\u001b[39m.\u001b[39;49mindex\u001b[39m.\u001b[39;49mget_loc(label)\n\u001b[1;32m   1123\u001b[0m \u001b[39mif\u001b[39;00m is_integer(loc):\n\u001b[1;32m   1124\u001b[0m     \u001b[39mreturn\u001b[39;00m \u001b[39mself\u001b[39m\u001b[39m.\u001b[39m_values[loc]\n",
      "File \u001b[0;32m/Library/Frameworks/Python.framework/Versions/3.10/lib/python3.10/site-packages/pandas/core/indexes/base.py:3654\u001b[0m, in \u001b[0;36mIndex.get_loc\u001b[0;34m(self, key)\u001b[0m\n\u001b[1;32m   3652\u001b[0m     \u001b[39mreturn\u001b[39;00m \u001b[39mself\u001b[39m\u001b[39m.\u001b[39m_engine\u001b[39m.\u001b[39mget_loc(casted_key)\n\u001b[1;32m   3653\u001b[0m \u001b[39mexcept\u001b[39;00m \u001b[39mKeyError\u001b[39;00m \u001b[39mas\u001b[39;00m err:\n\u001b[0;32m-> 3654\u001b[0m     \u001b[39mraise\u001b[39;00m \u001b[39mKeyError\u001b[39;00m(key) \u001b[39mfrom\u001b[39;00m \u001b[39merr\u001b[39;00m\n\u001b[1;32m   3655\u001b[0m \u001b[39mexcept\u001b[39;00m \u001b[39mTypeError\u001b[39;00m:\n\u001b[1;32m   3656\u001b[0m     \u001b[39m# If we have a listlike key, _check_indexing_error will raise\u001b[39;00m\n\u001b[1;32m   3657\u001b[0m     \u001b[39m#  InvalidIndexError. Otherwise we fall through and re-raise\u001b[39;00m\n\u001b[1;32m   3658\u001b[0m     \u001b[39m#  the TypeError.\u001b[39;00m\n\u001b[1;32m   3659\u001b[0m     \u001b[39mself\u001b[39m\u001b[39m.\u001b[39m_check_indexing_error(key)\n",
      "\u001b[0;31mKeyError\u001b[0m: 0"
     ]
    }
   ],
   "source": [
    "window_percentage = 3\n",
    "\n",
    "# Function to get the upper and lower bands\n",
    "def get_bands(data):\n",
    "        upper_band = np.mean(data) + (3 * np.std(data))\n",
    "        lower_band = np.mean(data) - (3 * np.std(data))\n",
    "        return upper_band, lower_band\n",
    "\n",
    "for df in dataframes:\n",
    "    column_names = all_column_names[df['city_name'][0]]\n",
    "    anomaly_masks = {}\n",
    "    for column_name in column_names[1:]:\n",
    "        column = df[column_name]\n",
    "        N = len(column)\n",
    "        k = int(N * (window_percentage/2/100))\n",
    "\n",
    "        # Calculate the bands for each data point\n",
    "        bands = [get_bands(column[max(0, i-k):min(i+k, N)]) for i in range(N)]\n",
    "        upper, lower = zip(*bands)\n",
    "\n",
    "        # Identify the anomalies\n",
    "        anomalies = (column > upper) | (column < lower)\n",
    "        anomaly_masks[column_name] = anomalies\n",
    "\n",
    "    # Combine anomaly masks using bitwise OR (|) for each column's mask\n",
    "    combined_mask = np.column_stack(list(anomaly_masks.values())).any(axis=1)\n",
    "\n",
    "    # Filter the data\n",
    "    filtered_data = df[~combined_mask]\n"
   ]
  }
 ],
 "metadata": {
  "kernelspec": {
   "display_name": "Python 3.10.11 64-bit",
   "language": "python",
   "name": "python3"
  },
  "language_info": {
   "codemirror_mode": {
    "name": "ipython",
    "version": 3
   },
   "file_extension": ".py",
   "mimetype": "text/x-python",
   "name": "python",
   "nbconvert_exporter": "python",
   "pygments_lexer": "ipython3",
   "version": "3.10.11"
  },
  "orig_nbformat": 4,
  "vscode": {
   "interpreter": {
    "hash": "aee8b7b246df8f9039afb4144a1f6fd8d2ca17a180786b69acc140d282b71a49"
   }
  }
 },
 "nbformat": 4,
 "nbformat_minor": 2
}
